{
 "cells": [
  {
   "cell_type": "code",
   "execution_count": 36,
   "metadata": {},
   "outputs": [],
   "source": [
    "import numpy as np\n",
    "import pandas as pd\n",
    "\n",
    "from datetime import date\n",
    "\n",
    "from statsmodels.tsa.stattools import coint"
   ]
  },
  {
   "cell_type": "code",
   "execution_count": 37,
   "metadata": {},
   "outputs": [],
   "source": [
    "data_file=pd.read_csv('./data/stock_database.csv')"
   ]
  },
  {
   "cell_type": "code",
   "execution_count": 38,
   "metadata": {},
   "outputs": [],
   "source": [
    "data_file['Date']=data_file['Date'].astype('datetime64[ns]')\n",
    "data_file.set_index('Date', inplace=True)\n",
    "data_file.drop(['ARNC', 'FOX', 'FOXA', 'PX', 'SCG'], axis=1, inplace=True)\n",
    "data_file.to_csv('./data/selected.csv')"
   ]
  },
  {
   "cell_type": "code",
   "execution_count": 39,
   "metadata": {},
   "outputs": [
    {
     "name": "stdout",
     "output_type": "stream",
     "text": [
      "(-0.9843823342289958, 0.9057694259877653, array([-3.90047691, -3.33838059, -3.04601193]))\n"
     ]
    },
    {
     "name": "stderr",
     "output_type": "stream",
     "text": [
      "c:\\program files\\python37\\lib\\site-packages\\ipykernel_launcher.py:2: SettingWithCopyWarning: \n",
      "A value is trying to be set on a copy of a slice from a DataFrame\n",
      "\n",
      "See the caveats in the documentation: http://pandas.pydata.org/pandas-docs/stable/user_guide/indexing.html#returning-a-view-versus-a-copy\n",
      "  \n"
     ]
    }
   ],
   "source": [
    "pair=data_file.iloc[:,[438, 451]]\n",
    "pair.dropna(how='any', axis=0, inplace=True)\n",
    "tt=coint(pair.iloc[:,0], pair.iloc[:,1])\n",
    "print(tt)"
   ]
  },
  {
   "cell_type": "code",
   "execution_count": 40,
   "metadata": {},
   "outputs": [
    {
     "name": "stderr",
     "output_type": "stream",
     "text": [
      "c:\\program files\\python37\\lib\\site-packages\\ipykernel_launcher.py:9: SettingWithCopyWarning: \n",
      "A value is trying to be set on a copy of a slice from a DataFrame\n",
      "\n",
      "See the caveats in the documentation: http://pandas.pydata.org/pandas-docs/stable/user_guide/indexing.html#returning-a-view-versus-a-copy\n",
      "  if __name__ == '__main__':\n"
     ]
    }
   ],
   "source": [
    "#test_results=pd.DataFrame(columns=('t_stat', 'p_value', 'CI_1', 'CI_5','CI_10', 'i', 'j'))\n",
    "temp_list=[]\n",
    "main_list=[]\n",
    "\n",
    "stock_list=data_file.columns.to_list()\n",
    "for i in range(0, len(stock_list)-1):\n",
    "    for j in range(i+1, len(stock_list)):\n",
    "        pair=data_file.iloc[:,[i,j]]\n",
    "        pair.dropna(how='any', axis=0, inplace=True)\n",
    "        \n",
    "        #print(pair.isnull().sum())\n",
    "        try:\n",
    "            result=coint(pair.iloc[:,0], pair.iloc[:,1])\n",
    "        except ValueError:\n",
    "            print(f'i:{i},j:{j}')\n",
    "            \n",
    "        temp_list=[result[0], result[1], result[2][0], result[2][1], result[2][2], i, j]\n",
    "        main_list.append(temp_list)\n",
    "\n",
    "test_results=pd.DataFrame(main_list, columns=('t_stat', 'p_value', 'CI_1', 'CI_5','CI_10', 'i', 'j'))"
   ]
  },
  {
   "cell_type": "code",
   "execution_count": 41,
   "metadata": {},
   "outputs": [
    {
     "name": "stdout",
     "output_type": "stream",
     "text": [
      "<class 'pandas.core.frame.DataFrame'>\n",
      "RangeIndex: 111156 entries, 0 to 111155\n",
      "Data columns (total 7 columns):\n",
      "t_stat     111156 non-null float64\n",
      "p_value    111156 non-null float64\n",
      "CI_1       111156 non-null float64\n",
      "CI_5       111156 non-null float64\n",
      "CI_10      111156 non-null float64\n",
      "i          111156 non-null int64\n",
      "j          111156 non-null int64\n",
      "dtypes: float64(5), int64(2)\n",
      "memory usage: 5.9 MB\n"
     ]
    }
   ],
   "source": [
    "test_results.info()"
   ]
  },
  {
   "cell_type": "code",
   "execution_count": 42,
   "metadata": {},
   "outputs": [],
   "source": [
    "test_results.to_csv('./data/results.csv')"
   ]
  }
 ],
 "metadata": {
  "kernelspec": {
   "display_name": "Python 3",
   "language": "python",
   "name": "python3"
  },
  "language_info": {
   "codemirror_mode": {
    "name": "ipython",
    "version": 3
   },
   "file_extension": ".py",
   "mimetype": "text/x-python",
   "name": "python",
   "nbconvert_exporter": "python",
   "pygments_lexer": "ipython3",
   "version": "3.7.4"
  }
 },
 "nbformat": 4,
 "nbformat_minor": 2
}
