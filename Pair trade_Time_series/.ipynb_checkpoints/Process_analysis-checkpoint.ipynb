{
 "cells": [
  {
   "cell_type": "code",
   "execution_count": 41,
   "metadata": {},
   "outputs": [],
   "source": [
    "import numpy as np\n",
    "import pandas as pd\n",
    "\n",
    "from datetime import date\n",
    "\n",
    "from statsmodels.tsa.stattools import coint"
   ]
  },
  {
   "cell_type": "code",
   "execution_count": 42,
   "metadata": {},
   "outputs": [],
   "source": [
    "def coint_test(df, s1, s2): ###########WIP#################\n",
    "    \n",
    "    pair=df.iloc[:,[s1, s2]]\n",
    "    pair.dropna(how='any', axis=0, inplace=True)\n",
    "    tt=coint(pair.iloc[:,0], pair.iloc[:,1])\n",
    "    \n",
    "    return tt"
   ]
  },
  {
   "cell_type": "code",
   "execution_count": 43,
   "metadata": {},
   "outputs": [],
   "source": [
    "data_file=pd.read_csv('./data/stock_database.csv')\n",
    "#data_file.head()"
   ]
  },
  {
   "cell_type": "code",
   "execution_count": 44,
   "metadata": {},
   "outputs": [],
   "source": [
    "data_file['Date']=data_file['Date'].astype('datetime64[ns]')\n",
    "data_file.set_index('Date', inplace=True)\n",
    "data_file.drop(['ARNC', 'FOX', 'FOXA', 'PX', 'SCG'], axis=1, inplace=True)\n",
    "data_file.to_csv('./data/selected.csv')"
   ]
  },
  {
   "cell_type": "code",
   "execution_count": 45,
   "metadata": {},
   "outputs": [],
   "source": [
    "sp_list=pd.read_csv('./data/sp_list.csv')\n",
    "sp_list=sp_list[['Symbol', 'Sector']].copy()"
   ]
  },
  {
   "cell_type": "code",
   "execution_count": 29,
   "metadata": {},
   "outputs": [
    {
     "name": "stderr",
     "output_type": "stream",
     "text": [
      "c:\\program files\\python37\\lib\\site-packages\\ipykernel_launcher.py:8: SettingWithCopyWarning: \n",
      "A value is trying to be set on a copy of a slice from a DataFrame\n",
      "\n",
      "See the caveats in the documentation: http://pandas.pydata.org/pandas-docs/stable/user_guide/indexing.html#returning-a-view-versus-a-copy\n",
      "  \n"
     ]
    }
   ],
   "source": [
    "temp_list=[]\n",
    "main_list=[]\n",
    "\n",
    "stock_list=data_file.columns.to_list()\n",
    "for i in range(0, len(stock_list)-1):\n",
    "    for j in range(i+1, len(stock_list)):\n",
    "        pair=data_file.iloc[:,[i,j]]\n",
    "        pair.dropna(how='any', axis=0, inplace=True)\n",
    "        \n",
    "        #print(pair.isnull().sum())\n",
    "        try:\n",
    "            result=coint(pair.iloc[:,0], pair.iloc[:,1])\n",
    "        except ValueError:\n",
    "            print(f'i:{i},j:{j}')\n",
    "            \n",
    "        temp_list=[result[0], result[1], result[2][0], result[2][1], result[2][2], i, j]\n",
    "        main_list.append(temp_list)\n",
    "\n",
    "test_results=pd.DataFrame(main_list, columns=('t_stat', 'p_value', 'CI_1', 'CI_5','CI_10', 'i', 'j'))"
   ]
  },
  {
   "cell_type": "code",
   "execution_count": 30,
   "metadata": {},
   "outputs": [
    {
     "name": "stdout",
     "output_type": "stream",
     "text": [
      "<class 'pandas.core.frame.DataFrame'>\n",
      "RangeIndex: 111156 entries, 0 to 111155\n",
      "Data columns (total 7 columns):\n",
      "t_stat     111156 non-null float64\n",
      "p_value    111156 non-null float64\n",
      "CI_1       111156 non-null float64\n",
      "CI_5       111156 non-null float64\n",
      "CI_10      111156 non-null float64\n",
      "i          111156 non-null int64\n",
      "j          111156 non-null int64\n",
      "dtypes: float64(5), int64(2)\n",
      "memory usage: 5.9 MB\n"
     ]
    }
   ],
   "source": [
    "test_results.info()"
   ]
  },
  {
   "cell_type": "code",
   "execution_count": 46,
   "metadata": {},
   "outputs": [],
   "source": [
    "coint_results=test_results.loc[test_results.p_value<0.005]\n",
    "coint_results=coint_results.sort_values(by='p_value')\n"
   ]
  },
  {
   "cell_type": "code",
   "execution_count": 47,
   "metadata": {},
   "outputs": [
    {
     "name": "stderr",
     "output_type": "stream",
     "text": [
      "c:\\program files\\python37\\lib\\site-packages\\pandas\\core\\indexing.py:205: SettingWithCopyWarning: \n",
      "A value is trying to be set on a copy of a slice from a DataFrame\n",
      "\n",
      "See the caveats in the documentation: http://pandas.pydata.org/pandas-docs/stable/user_guide/indexing.html#returning-a-view-versus-a-copy\n",
      "  self._setitem_with_indexer(indexer, value)\n"
     ]
    },
    {
     "data": {
      "text/html": [
       "<div>\n",
       "<style scoped>\n",
       "    .dataframe tbody tr th:only-of-type {\n",
       "        vertical-align: middle;\n",
       "    }\n",
       "\n",
       "    .dataframe tbody tr th {\n",
       "        vertical-align: top;\n",
       "    }\n",
       "\n",
       "    .dataframe thead th {\n",
       "        text-align: right;\n",
       "    }\n",
       "</style>\n",
       "<table border=\"1\" class=\"dataframe\">\n",
       "  <thead>\n",
       "    <tr style=\"text-align: right;\">\n",
       "      <th></th>\n",
       "      <th>t_stat</th>\n",
       "      <th>p_value</th>\n",
       "      <th>CI_1</th>\n",
       "      <th>CI_5</th>\n",
       "      <th>CI_10</th>\n",
       "      <th>i</th>\n",
       "      <th>j</th>\n",
       "      <th>i_sybl</th>\n",
       "      <th>j_sybl</th>\n",
       "      <th>i_sect</th>\n",
       "      <th>j_sect</th>\n",
       "    </tr>\n",
       "  </thead>\n",
       "  <tbody>\n",
       "    <tr>\n",
       "      <td>0</td>\n",
       "      <td>-10.251584</td>\n",
       "      <td>5.791513e-17</td>\n",
       "      <td>-3.898542</td>\n",
       "      <td>-3.337302</td>\n",
       "      <td>-3.045264</td>\n",
       "      <td>23</td>\n",
       "      <td>347</td>\n",
       "      <td>AKAM</td>\n",
       "      <td>PKG</td>\n",
       "      <td>Information Technology</td>\n",
       "      <td>Materials</td>\n",
       "    </tr>\n",
       "    <tr>\n",
       "      <td>1</td>\n",
       "      <td>-10.242754</td>\n",
       "      <td>6.093729e-17</td>\n",
       "      <td>-3.898634</td>\n",
       "      <td>-3.337354</td>\n",
       "      <td>-3.045299</td>\n",
       "      <td>189</td>\n",
       "      <td>196</td>\n",
       "      <td>GLW</td>\n",
       "      <td>GRMN</td>\n",
       "      <td>Information Technology</td>\n",
       "      <td>Consumer Discretionary</td>\n",
       "    </tr>\n",
       "    <tr>\n",
       "      <td>2</td>\n",
       "      <td>-9.938121</td>\n",
       "      <td>3.555282e-16</td>\n",
       "      <td>-3.899898</td>\n",
       "      <td>-3.338058</td>\n",
       "      <td>-3.045788</td>\n",
       "      <td>19</td>\n",
       "      <td>350</td>\n",
       "      <td>AIG</td>\n",
       "      <td>PM</td>\n",
       "      <td>Financials</td>\n",
       "      <td>Consumer Staples</td>\n",
       "    </tr>\n",
       "    <tr>\n",
       "      <td>3</td>\n",
       "      <td>-9.912550</td>\n",
       "      <td>4.125562e-16</td>\n",
       "      <td>-3.899900</td>\n",
       "      <td>-3.338059</td>\n",
       "      <td>-3.045789</td>\n",
       "      <td>19</td>\n",
       "      <td>435</td>\n",
       "      <td>AIG</td>\n",
       "      <td>V</td>\n",
       "      <td>Financials</td>\n",
       "      <td>Information Technology</td>\n",
       "    </tr>\n",
       "    <tr>\n",
       "      <td>4</td>\n",
       "      <td>-9.786967</td>\n",
       "      <td>8.577931e-16</td>\n",
       "      <td>-3.898521</td>\n",
       "      <td>-3.337290</td>\n",
       "      <td>-3.045255</td>\n",
       "      <td>23</td>\n",
       "      <td>432</td>\n",
       "      <td>AKAM</td>\n",
       "      <td>UPS</td>\n",
       "      <td>Information Technology</td>\n",
       "      <td>Industrials</td>\n",
       "    </tr>\n",
       "  </tbody>\n",
       "</table>\n",
       "</div>"
      ],
      "text/plain": [
       "      t_stat       p_value      CI_1      CI_5     CI_10    i    j i_sybl  \\\n",
       "0 -10.251584  5.791513e-17 -3.898542 -3.337302 -3.045264   23  347   AKAM   \n",
       "1 -10.242754  6.093729e-17 -3.898634 -3.337354 -3.045299  189  196    GLW   \n",
       "2  -9.938121  3.555282e-16 -3.899898 -3.338058 -3.045788   19  350    AIG   \n",
       "3  -9.912550  4.125562e-16 -3.899900 -3.338059 -3.045789   19  435    AIG   \n",
       "4  -9.786967  8.577931e-16 -3.898521 -3.337290 -3.045255   23  432   AKAM   \n",
       "\n",
       "  j_sybl                  i_sect                  j_sect  \n",
       "0    PKG  Information Technology               Materials  \n",
       "1   GRMN  Information Technology  Consumer Discretionary  \n",
       "2     PM              Financials        Consumer Staples  \n",
       "3      V              Financials  Information Technology  \n",
       "4    UPS  Information Technology             Industrials  "
      ]
     },
     "execution_count": 47,
     "metadata": {},
     "output_type": "execute_result"
    }
   ],
   "source": [
    "new_cols=['i_sybl', 'j_sybl', 'i_sect', 'j_sect']\n",
    "coint_results=coint_results.reindex(columns=coint_results.columns.tolist()+new_cols)\n",
    "\n",
    "stock_list=data_file.columns.tolist()\n",
    "for num in range(0, len(coint_results.index)):\n",
    "\n",
    "    i=coint_results.iloc[num, 5]\n",
    "    j=coint_results.iloc[num, 6]\n",
    "    \n",
    "    coint_results['i_sybl'].iloc[num]=stock_list[i]\n",
    "    coint_results['j_sybl'].iloc[num]=stock_list[j]\n",
    "\n",
    "coint_results=pd.merge(coint_results, sp_list, how='left', left_on='i_sybl', right_on='Symbol')\n",
    "coint_results['i_sect']=coint_results['Sector']\n",
    "coint_results.drop(columns=['Sector'], axis=1, inplace=True)\n",
    "coint_results=pd.merge(coint_results, sp_list, how='left', left_on='j_sybl', right_on='Symbol')\n",
    "coint_results['j_sect']=coint_results['Sector']\n",
    "coint_results.drop(columns=['Symbol_x', 'Symbol_y', 'Sector'], axis=1, inplace=True)\n",
    "coint_results.head()    "
   ]
  },
  {
   "cell_type": "code",
   "execution_count": 48,
   "metadata": {},
   "outputs": [],
   "source": [
    "coint_results.to_csv('./data/results.csv', index=False)"
   ]
  },
  {
   "cell_type": "code",
   "execution_count": null,
   "metadata": {},
   "outputs": [],
   "source": []
  }
 ],
 "metadata": {
  "kernelspec": {
   "display_name": "Python 3",
   "language": "python",
   "name": "python3"
  },
  "language_info": {
   "codemirror_mode": {
    "name": "ipython",
    "version": 3
   },
   "file_extension": ".py",
   "mimetype": "text/x-python",
   "name": "python",
   "nbconvert_exporter": "python",
   "pygments_lexer": "ipython3",
   "version": "3.7.4"
  }
 },
 "nbformat": 4,
 "nbformat_minor": 2
}
