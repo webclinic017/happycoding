{
 "cells": [
  {
   "cell_type": "code",
   "execution_count": 27,
   "metadata": {},
   "outputs": [],
   "source": [
    "import numpy as np\n",
    "import pandas as pd\n",
    "\n",
    "from datetime import date\n",
    "import pandas_market_calendars as mcal\n",
    "\n",
    "from statsmodels.tsa.stattools import coint"
   ]
  },
  {
   "cell_type": "code",
   "execution_count": 28,
   "metadata": {},
   "outputs": [],
   "source": [
    "data_file=pd.read_csv('./data/stock_database.csv')\n",
    "#data_file.head()"
   ]
  },
  {
   "cell_type": "code",
   "execution_count": 29,
   "metadata": {},
   "outputs": [],
   "source": [
    "data_file['Date']=data_file['Date'].astype('datetime64[ns]')\n",
    "data_file.set_index('Date', inplace=True)\n",
    "data_file.drop(['ARNC', 'FOX', 'FOXA', 'PX', 'SCG', 'AKAM', 'CHK'], axis=1, inplace=True)\n",
    "\n",
    "smoothing='yes'\n",
    "data_file.to_csv('./data/selected.csv')\n"
   ]
  },
  {
   "cell_type": "code",
   "execution_count": 30,
   "metadata": {},
   "outputs": [],
   "source": [
    "#start='1990-01-01'\n",
    "#end='2020-11-06'\n",
    "#nyse = mcal.get_calendar('NYSE')\n",
    "#time_range=nyse.schedule(start_date=start, end_date=end)\n",
    "#mcal.date_range(time_range, frequency='1W')"
   ]
  },
  {
   "cell_type": "code",
   "execution_count": null,
   "metadata": {},
   "outputs": [],
   "source": []
  },
  {
   "cell_type": "code",
   "execution_count": 31,
   "metadata": {},
   "outputs": [],
   "source": [
    "sp_list=pd.read_csv('./data/sp_list.csv')\n",
    "sp_list=sp_list[['Symbol', 'Sector']].copy()"
   ]
  },
  {
   "cell_type": "code",
   "execution_count": 32,
   "metadata": {},
   "outputs": [
    {
     "name": "stderr",
     "output_type": "stream",
     "text": [
      "c:\\program files\\python37\\lib\\site-packages\\ipykernel_launcher.py:8: SettingWithCopyWarning: \n",
      "A value is trying to be set on a copy of a slice from a DataFrame\n",
      "\n",
      "See the caveats in the documentation: http://pandas.pydata.org/pandas-docs/stable/user_guide/indexing.html#returning-a-view-versus-a-copy\n",
      "  \n"
     ]
    }
   ],
   "source": [
    "temp_list=[]\n",
    "main_list=[]\n",
    "\n",
    "stock_list=data_file.columns.to_list()\n",
    "for i in range(0, len(stock_list)-1):\n",
    "    for j in range(i+1, len(stock_list)):\n",
    "        pair=data_file.iloc[:,[i,j]]\n",
    "        pair.dropna(how='any', axis=0, inplace=True)\n",
    "        \n",
    "        if smoothing=='yes':\n",
    "            pair=pair.rolling(window=5).mean()\n",
    "            pair.dropna(inplace=True)\n",
    "        \n",
    "        try:\n",
    "            result=coint(pair.iloc[:,0], pair.iloc[:,1])\n",
    "        except ValueError:\n",
    "            print(f'i:{i},j:{j}')\n",
    "            \n",
    "        temp_list=[result[0], result[1], result[2][0], result[2][1], result[2][2], i, j]\n",
    "        main_list.append(temp_list)\n",
    "\n",
    "test_results=pd.DataFrame(main_list, columns=('t_stat', 'p_value', 'CI_1', 'CI_5','CI_10', 'i', 'j'))"
   ]
  },
  {
   "cell_type": "code",
   "execution_count": 33,
   "metadata": {},
   "outputs": [
    {
     "name": "stdout",
     "output_type": "stream",
     "text": [
      "<class 'pandas.core.frame.DataFrame'>\n",
      "RangeIndex: 110215 entries, 0 to 110214\n",
      "Data columns (total 7 columns):\n",
      "t_stat     110215 non-null float64\n",
      "p_value    110215 non-null float64\n",
      "CI_1       110215 non-null float64\n",
      "CI_5       110215 non-null float64\n",
      "CI_10      110215 non-null float64\n",
      "i          110215 non-null int64\n",
      "j          110215 non-null int64\n",
      "dtypes: float64(5), int64(2)\n",
      "memory usage: 5.9 MB\n"
     ]
    }
   ],
   "source": [
    "test_results.info()"
   ]
  },
  {
   "cell_type": "code",
   "execution_count": 34,
   "metadata": {},
   "outputs": [],
   "source": [
    "coint_results=test_results.loc[test_results.p_value<0.005]\n",
    "coint_results=coint_results.sort_values(by='p_value')\n"
   ]
  },
  {
   "cell_type": "code",
   "execution_count": 35,
   "metadata": {},
   "outputs": [
    {
     "data": {
      "text/html": [
       "<div>\n",
       "<style scoped>\n",
       "    .dataframe tbody tr th:only-of-type {\n",
       "        vertical-align: middle;\n",
       "    }\n",
       "\n",
       "    .dataframe tbody tr th {\n",
       "        vertical-align: top;\n",
       "    }\n",
       "\n",
       "    .dataframe thead th {\n",
       "        text-align: right;\n",
       "    }\n",
       "</style>\n",
       "<table border=\"1\" class=\"dataframe\">\n",
       "  <thead>\n",
       "    <tr style=\"text-align: right;\">\n",
       "      <th></th>\n",
       "      <th>t_stat</th>\n",
       "      <th>p_value</th>\n",
       "      <th>CI_1</th>\n",
       "      <th>CI_5</th>\n",
       "      <th>CI_10</th>\n",
       "      <th>i</th>\n",
       "      <th>j</th>\n",
       "      <th>i_sybl</th>\n",
       "      <th>j_sybl</th>\n",
       "      <th>i_sect</th>\n",
       "      <th>j_sect</th>\n",
       "    </tr>\n",
       "  </thead>\n",
       "  <tbody>\n",
       "    <tr>\n",
       "      <td>0</td>\n",
       "      <td>-11.889913</td>\n",
       "      <td>6.815615e-21</td>\n",
       "      <td>-3.899889</td>\n",
       "      <td>-3.338053</td>\n",
       "      <td>-3.045785</td>\n",
       "      <td>19</td>\n",
       "      <td>433</td>\n",
       "      <td>AIG</td>\n",
       "      <td>V</td>\n",
       "      <td>Financials</td>\n",
       "      <td>Information Technology</td>\n",
       "    </tr>\n",
       "    <tr>\n",
       "      <td>1</td>\n",
       "      <td>-9.936845</td>\n",
       "      <td>3.581770e-16</td>\n",
       "      <td>-3.898590</td>\n",
       "      <td>-3.337329</td>\n",
       "      <td>-3.045282</td>\n",
       "      <td>187</td>\n",
       "      <td>224</td>\n",
       "      <td>GLW</td>\n",
       "      <td>ILMN</td>\n",
       "      <td>Information Technology</td>\n",
       "      <td>Health Care</td>\n",
       "    </tr>\n",
       "    <tr>\n",
       "      <td>2</td>\n",
       "      <td>-9.381288</td>\n",
       "      <td>9.238880e-15</td>\n",
       "      <td>-3.897850</td>\n",
       "      <td>-3.336917</td>\n",
       "      <td>-3.044996</td>\n",
       "      <td>286</td>\n",
       "      <td>447</td>\n",
       "      <td>MKC</td>\n",
       "      <td>WEC</td>\n",
       "      <td>Consumer Staples</td>\n",
       "      <td>Utilities</td>\n",
       "    </tr>\n",
       "    <tr>\n",
       "      <td>3</td>\n",
       "      <td>-9.249477</td>\n",
       "      <td>2.005234e-14</td>\n",
       "      <td>-3.899887</td>\n",
       "      <td>-3.338052</td>\n",
       "      <td>-3.045784</td>\n",
       "      <td>19</td>\n",
       "      <td>348</td>\n",
       "      <td>AIG</td>\n",
       "      <td>PM</td>\n",
       "      <td>Financials</td>\n",
       "      <td>Consumer Staples</td>\n",
       "    </tr>\n",
       "    <tr>\n",
       "      <td>4</td>\n",
       "      <td>-8.306248</td>\n",
       "      <td>5.099555e-12</td>\n",
       "      <td>-3.899716</td>\n",
       "      <td>-3.337957</td>\n",
       "      <td>-3.045718</td>\n",
       "      <td>155</td>\n",
       "      <td>407</td>\n",
       "      <td>ETFC</td>\n",
       "      <td>TEL</td>\n",
       "      <td>Financials</td>\n",
       "      <td>Information Technology</td>\n",
       "    </tr>\n",
       "  </tbody>\n",
       "</table>\n",
       "</div>"
      ],
      "text/plain": [
       "      t_stat       p_value      CI_1      CI_5     CI_10    i    j i_sybl  \\\n",
       "0 -11.889913  6.815615e-21 -3.899889 -3.338053 -3.045785   19  433    AIG   \n",
       "1  -9.936845  3.581770e-16 -3.898590 -3.337329 -3.045282  187  224    GLW   \n",
       "2  -9.381288  9.238880e-15 -3.897850 -3.336917 -3.044996  286  447    MKC   \n",
       "3  -9.249477  2.005234e-14 -3.899887 -3.338052 -3.045784   19  348    AIG   \n",
       "4  -8.306248  5.099555e-12 -3.899716 -3.337957 -3.045718  155  407   ETFC   \n",
       "\n",
       "  j_sybl                  i_sect                  j_sect  \n",
       "0      V              Financials  Information Technology  \n",
       "1   ILMN  Information Technology             Health Care  \n",
       "2    WEC        Consumer Staples               Utilities  \n",
       "3     PM              Financials        Consumer Staples  \n",
       "4    TEL              Financials  Information Technology  "
      ]
     },
     "execution_count": 35,
     "metadata": {},
     "output_type": "execute_result"
    }
   ],
   "source": [
    "new_cols=['i_sybl', 'j_sybl', 'i_sect', 'j_sect']\n",
    "coint_results=coint_results.reindex(columns=coint_results.columns.tolist()+new_cols)\n",
    "\n",
    "stock_list=data_file.columns.tolist()\n",
    "for num in range(0, len(coint_results.index)):\n",
    "\n",
    "    i=coint_results.iloc[num, 5]\n",
    "    j=coint_results.iloc[num, 6]\n",
    "    \n",
    "    coint_results['i_sybl'].iloc[num]=stock_list[i]\n",
    "    coint_results['j_sybl'].iloc[num]=stock_list[j]\n",
    "\n",
    "coint_results=pd.merge(coint_results, sp_list, how='left', left_on='i_sybl', right_on='Symbol')\n",
    "coint_results['i_sect']=coint_results['Sector']\n",
    "coint_results.drop(columns=['Sector'], axis=1, inplace=True)\n",
    "coint_results=pd.merge(coint_results, sp_list, how='left', left_on='j_sybl', right_on='Symbol')\n",
    "coint_results['j_sect']=coint_results['Sector']\n",
    "coint_results.drop(columns=['Symbol_x', 'Symbol_y', 'Sector'], axis=1, inplace=True)\n",
    "coint_results.head()    "
   ]
  },
  {
   "cell_type": "code",
   "execution_count": 36,
   "metadata": {},
   "outputs": [],
   "source": [
    "if smoothing=='yes':\n",
    "    coint_results.to_csv('./data/results_smoothing.csv', index=False)\n",
    "else:\n",
    "    coint_results.to_csv('./data/results.csv', index=False)"
   ]
  },
  {
   "cell_type": "code",
   "execution_count": null,
   "metadata": {},
   "outputs": [],
   "source": []
  }
 ],
 "metadata": {
  "kernelspec": {
   "display_name": "Python 3",
   "language": "python",
   "name": "python3"
  },
  "language_info": {
   "codemirror_mode": {
    "name": "ipython",
    "version": 3
   },
   "file_extension": ".py",
   "mimetype": "text/x-python",
   "name": "python",
   "nbconvert_exporter": "python",
   "pygments_lexer": "ipython3",
   "version": "3.7.4"
  }
 },
 "nbformat": 4,
 "nbformat_minor": 2
}
