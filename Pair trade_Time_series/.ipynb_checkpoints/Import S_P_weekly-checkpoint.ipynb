{
 "cells": [
  {
   "cell_type": "code",
   "execution_count": 42,
   "metadata": {},
   "outputs": [],
   "source": [
    "import numpy as np\n",
    "import pandas as pd\n",
    "from pandas_datareader.data import DataReader\n",
    "from datetime import date\n",
    "import datapackage\n",
    "\n",
    "import yfinance as yf\n",
    "from yahoofinancials import YahooFinancials"
   ]
  },
  {
   "cell_type": "code",
   "execution_count": 43,
   "metadata": {},
   "outputs": [],
   "source": [
    "###########################################Pull SP500 list from datahub#################################\n",
    "data_url = 'https://datahub.io/core/s-and-p-500-companies-financials/datapackage.json'\n",
    "\n",
    "# to load Data Package into storage\n",
    "package = datapackage.Package(data_url)\n",
    "\n",
    "# to load only tabular data\n",
    "resources = package.resources\n",
    "for resource in resources:\n",
    "    if resource.tabular:\n",
    "        data = pd.read_csv(resource.descriptor['path'])\n",
    "\n",
    "#data.info()"
   ]
  },
  {
   "cell_type": "code",
   "execution_count": 44,
   "metadata": {},
   "outputs": [
    {
     "name": "stderr",
     "output_type": "stream",
     "text": [
      "c:\\program files\\python37\\lib\\site-packages\\ipykernel_launcher.py:3: SettingWithCopyWarning: \n",
      "A value is trying to be set on a copy of a slice from a DataFrame.\n",
      "Try using .loc[row_indexer,col_indexer] = value instead\n",
      "\n",
      "See the caveats in the documentation: http://pandas.pydata.org/pandas-docs/stable/user_guide/indexing.html#returning-a-view-versus-a-copy\n",
      "  This is separate from the ipykernel package so we can avoid doing imports until\n"
     ]
    }
   ],
   "source": [
    "col_list=['Symbol', 'Name', 'Sector', 'Market Cap']\n",
    "sp_list=data[col_list]\n",
    "sp_list['Market Cap']=sp_list['Market Cap'].div(1000000000)\n",
    "\n",
    "sp_list.to_csv('./data/sp_list.csv', index=False)"
   ]
  },
  {
   "cell_type": "code",
   "execution_count": null,
   "metadata": {},
   "outputs": [],
   "source": [
    " \"########################################Loop in each ticker's history#########################\\n\",\n",
    "start='1990-01-01'\n",
    "end='2020-11-06'\n",
    "stock_list=sp_list['Symbol'].tolist()\n",
    "yahoo_financials=YahooFinancials(stock_list)\n",
    "data=yahoo_financials.get_historical_price_data(start_date=start, end_date=end, time_interval='weekly')\n",
    "\n",
    "#dict_items = data.items()\n",
    "#first_two = list(dict_items)[:2]\n",
    "#print(first_two)"
   ]
  },
  {
   "cell_type": "code",
   "execution_count": null,
   "metadata": {},
   "outputs": [],
   "source": [
    "stock_database=pd.DataFrame({a: {x['formatted_date']: x['adjclose'] for x in data[a]['prices']} for a in stock_list if 'prices' in data[a]})\n",
    "stock_database.head()"
   ]
  },
  {
   "cell_type": "code",
   "execution_count": null,
   "metadata": {},
   "outputs": [],
   "source": [
    "stock_database.dropna(how='all', axis=1, inplace=True)\n",
    "stock_database.dropna(how='all', axis=0, inplace=True)\n",
    "#stock_database.head()"
   ]
  },
  {
   "cell_type": "code",
   "execution_count": null,
   "metadata": {},
   "outputs": [],
   "source": [
    "output_path='./data/'\n",
    "stock_database.to_csv(output_path+'stock_database_weekly.csv')"
   ]
  },
  {
   "cell_type": "code",
   "execution_count": null,
   "metadata": {},
   "outputs": [],
   "source": []
  }
 ],
 "metadata": {
  "kernelspec": {
   "display_name": "Python 3",
   "language": "python",
   "name": "python3"
  },
  "language_info": {
   "codemirror_mode": {
    "name": "ipython",
    "version": 3
   },
   "file_extension": ".py",
   "mimetype": "text/x-python",
   "name": "python",
   "nbconvert_exporter": "python",
   "pygments_lexer": "ipython3",
   "version": "3.7.4"
  }
 },
 "nbformat": 4,
 "nbformat_minor": 2
}
