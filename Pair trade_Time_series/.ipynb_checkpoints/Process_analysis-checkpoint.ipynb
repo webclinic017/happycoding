{
 "cells": [
  {
   "cell_type": "code",
   "execution_count": 17,
   "metadata": {},
   "outputs": [],
   "source": [
    "import numpy as np\n",
    "import pandas as pd\n",
    "\n",
    "from datetime import date\n",
    "import pandas_market_calendars as mcal\n",
    "\n",
    "from statsmodels.tsa.stattools import coint"
   ]
  },
  {
   "cell_type": "code",
   "execution_count": 18,
   "metadata": {},
   "outputs": [],
   "source": [
    "data_file=pd.read_csv('./data/stock_database.csv')\n",
    "#data_file.head()"
   ]
  },
  {
   "cell_type": "code",
   "execution_count": 19,
   "metadata": {},
   "outputs": [],
   "source": [
    "data_file['Date']=data_file['Date'].astype('datetime64[ns]')\n",
    "data_file.set_index('Date', inplace=True)\n",
    "data_file.drop(['ARNC', 'FOX', 'FOXA', 'PX', 'SCG', 'AKAM', 'CHK'], axis=1, inplace=True)\n",
    "\n",
    "smoothing='yes'\n",
    "data_file.to_csv('./data/selected.csv')\n"
   ]
  },
  {
   "cell_type": "code",
   "execution_count": 20,
   "metadata": {},
   "outputs": [],
   "source": [
    "#start='1990-01-01'\n",
    "#end='2020-11-06'\n",
    "#nyse = mcal.get_calendar('NYSE')\n",
    "#time_range=nyse.schedule(start_date=start, end_date=end)\n",
    "#mcal.date_range(time_range, frequency='1W')"
   ]
  },
  {
   "cell_type": "code",
   "execution_count": null,
   "metadata": {},
   "outputs": [],
   "source": []
  },
  {
   "cell_type": "code",
   "execution_count": 21,
   "metadata": {},
   "outputs": [],
   "source": [
    "sp_list=pd.read_csv('./data/sp_list.csv')\n",
    "sp_list=sp_list[['Symbol', 'Sector']].copy()"
   ]
  },
  {
   "cell_type": "code",
   "execution_count": 22,
   "metadata": {},
   "outputs": [
    {
     "name": "stderr",
     "output_type": "stream",
     "text": [
      "c:\\program files\\python37\\lib\\site-packages\\ipykernel_launcher.py:8: SettingWithCopyWarning: \n",
      "A value is trying to be set on a copy of a slice from a DataFrame\n",
      "\n",
      "See the caveats in the documentation: http://pandas.pydata.org/pandas-docs/stable/user_guide/indexing.html#returning-a-view-versus-a-copy\n",
      "  \n"
     ]
    }
   ],
   "source": [
    "temp_list=[]\n",
    "main_list=[]\n",
    "\n",
    "stock_list=data_file.columns.to_list()\n",
    "for i in range(0, len(stock_list)-1):\n",
    "    for j in range(i+1, len(stock_list)):\n",
    "        pair=data_file.iloc[:,[i,j]]\n",
    "        pair.dropna(how='any', axis=0, inplace=True)\n",
    "        \n",
    "        if smoothing=='yes':\n",
    "            pair=pair.rolling(window=5).mean()\n",
    "            pair.dropna(inplace=True)\n",
    "        \n",
    "        try:\n",
    "            result=coint(pair.iloc[:,0], pair.iloc[:,1])\n",
    "        except ValueError:\n",
    "            print(f'i:{i},j:{j}')\n",
    "            \n",
    "        temp_list=[result[0], result[1], result[2][0], result[2][1], result[2][2], i, j]\n",
    "        main_list.append(temp_list)\n",
    "\n",
    "test_results=pd.DataFrame(main_list, columns=('t_stat', 'p_value', 'CI_1', 'CI_5','CI_10', 'i', 'j'))"
   ]
  },
  {
   "cell_type": "code",
   "execution_count": 23,
   "metadata": {},
   "outputs": [
    {
     "name": "stdout",
     "output_type": "stream",
     "text": [
      "<class 'pandas.core.frame.DataFrame'>\n",
      "RangeIndex: 110215 entries, 0 to 110214\n",
      "Data columns (total 7 columns):\n",
      "t_stat     110215 non-null float64\n",
      "p_value    110215 non-null float64\n",
      "CI_1       110215 non-null float64\n",
      "CI_5       110215 non-null float64\n",
      "CI_10      110215 non-null float64\n",
      "i          110215 non-null int64\n",
      "j          110215 non-null int64\n",
      "dtypes: float64(5), int64(2)\n",
      "memory usage: 5.9 MB\n"
     ]
    }
   ],
   "source": [
    "test_results.info()"
   ]
  },
  {
   "cell_type": "code",
   "execution_count": 24,
   "metadata": {},
   "outputs": [],
   "source": [
    "coint_results=test_results.loc[test_results.p_value<0.005]\n",
    "coint_results=coint_results.sort_values(by='p_value')\n"
   ]
  },
  {
   "cell_type": "code",
   "execution_count": 25,
   "metadata": {},
   "outputs": [
    {
     "data": {
      "text/html": [
       "<div>\n",
       "<style scoped>\n",
       "    .dataframe tbody tr th:only-of-type {\n",
       "        vertical-align: middle;\n",
       "    }\n",
       "\n",
       "    .dataframe tbody tr th {\n",
       "        vertical-align: top;\n",
       "    }\n",
       "\n",
       "    .dataframe thead th {\n",
       "        text-align: right;\n",
       "    }\n",
       "</style>\n",
       "<table border=\"1\" class=\"dataframe\">\n",
       "  <thead>\n",
       "    <tr style=\"text-align: right;\">\n",
       "      <th></th>\n",
       "      <th>t_stat</th>\n",
       "      <th>p_value</th>\n",
       "      <th>CI_1</th>\n",
       "      <th>CI_5</th>\n",
       "      <th>CI_10</th>\n",
       "      <th>i</th>\n",
       "      <th>j</th>\n",
       "      <th>i_sybl</th>\n",
       "      <th>j_sybl</th>\n",
       "      <th>i_sect</th>\n",
       "      <th>j_sect</th>\n",
       "    </tr>\n",
       "  </thead>\n",
       "  <tbody>\n",
       "    <tr>\n",
       "      <td>0</td>\n",
       "      <td>-7.494694</td>\n",
       "      <td>5.448802e-10</td>\n",
       "      <td>-3.970943</td>\n",
       "      <td>-3.377167</td>\n",
       "      <td>-3.072846</td>\n",
       "      <td>71</td>\n",
       "      <td>212</td>\n",
       "      <td>CA</td>\n",
       "      <td>HPE</td>\n",
       "      <td>Information Technology</td>\n",
       "      <td>Information Technology</td>\n",
       "    </tr>\n",
       "    <tr>\n",
       "      <td>1</td>\n",
       "      <td>-6.271956</td>\n",
       "      <td>4.111730e-07</td>\n",
       "      <td>-3.970943</td>\n",
       "      <td>-3.377167</td>\n",
       "      <td>-3.072846</td>\n",
       "      <td>54</td>\n",
       "      <td>203</td>\n",
       "      <td>AZO</td>\n",
       "      <td>HD</td>\n",
       "      <td>Consumer Discretionary</td>\n",
       "      <td>Consumer Discretionary</td>\n",
       "    </tr>\n",
       "    <tr>\n",
       "      <td>2</td>\n",
       "      <td>-6.142282</td>\n",
       "      <td>7.957671e-07</td>\n",
       "      <td>-3.970943</td>\n",
       "      <td>-3.377167</td>\n",
       "      <td>-3.072846</td>\n",
       "      <td>37</td>\n",
       "      <td>462</td>\n",
       "      <td>ANDV</td>\n",
       "      <td>XOM</td>\n",
       "      <td>Energy</td>\n",
       "      <td>Energy</td>\n",
       "    </tr>\n",
       "    <tr>\n",
       "      <td>3</td>\n",
       "      <td>-6.066283</td>\n",
       "      <td>1.166420e-06</td>\n",
       "      <td>-3.970943</td>\n",
       "      <td>-3.377167</td>\n",
       "      <td>-3.072846</td>\n",
       "      <td>286</td>\n",
       "      <td>392</td>\n",
       "      <td>MKC</td>\n",
       "      <td>SPGI</td>\n",
       "      <td>Consumer Staples</td>\n",
       "      <td>Financials</td>\n",
       "    </tr>\n",
       "    <tr>\n",
       "      <td>4</td>\n",
       "      <td>-5.956767</td>\n",
       "      <td>2.011268e-06</td>\n",
       "      <td>-3.970943</td>\n",
       "      <td>-3.377167</td>\n",
       "      <td>-3.072846</td>\n",
       "      <td>88</td>\n",
       "      <td>167</td>\n",
       "      <td>CL</td>\n",
       "      <td>FBHS</td>\n",
       "      <td>Consumer Staples</td>\n",
       "      <td>Industrials</td>\n",
       "    </tr>\n",
       "  </tbody>\n",
       "</table>\n",
       "</div>"
      ],
      "text/plain": [
       "     t_stat       p_value      CI_1      CI_5     CI_10    i    j i_sybl  \\\n",
       "0 -7.494694  5.448802e-10 -3.970943 -3.377167 -3.072846   71  212     CA   \n",
       "1 -6.271956  4.111730e-07 -3.970943 -3.377167 -3.072846   54  203    AZO   \n",
       "2 -6.142282  7.957671e-07 -3.970943 -3.377167 -3.072846   37  462   ANDV   \n",
       "3 -6.066283  1.166420e-06 -3.970943 -3.377167 -3.072846  286  392    MKC   \n",
       "4 -5.956767  2.011268e-06 -3.970943 -3.377167 -3.072846   88  167     CL   \n",
       "\n",
       "  j_sybl                  i_sect                  j_sect  \n",
       "0    HPE  Information Technology  Information Technology  \n",
       "1     HD  Consumer Discretionary  Consumer Discretionary  \n",
       "2    XOM                  Energy                  Energy  \n",
       "3   SPGI        Consumer Staples              Financials  \n",
       "4   FBHS        Consumer Staples             Industrials  "
      ]
     },
     "execution_count": 25,
     "metadata": {},
     "output_type": "execute_result"
    }
   ],
   "source": [
    "new_cols=['i_sybl', 'j_sybl', 'i_sect', 'j_sect']\n",
    "coint_results=coint_results.reindex(columns=coint_results.columns.tolist()+new_cols)\n",
    "\n",
    "stock_list=data_file.columns.tolist()\n",
    "for num in range(0, len(coint_results.index)):\n",
    "\n",
    "    i=coint_results.iloc[num, 5]\n",
    "    j=coint_results.iloc[num, 6]\n",
    "    \n",
    "    coint_results['i_sybl'].iloc[num]=stock_list[i]\n",
    "    coint_results['j_sybl'].iloc[num]=stock_list[j]\n",
    "\n",
    "coint_results=pd.merge(coint_results, sp_list, how='left', left_on='i_sybl', right_on='Symbol')\n",
    "coint_results['i_sect']=coint_results['Sector']\n",
    "coint_results.drop(columns=['Sector'], axis=1, inplace=True)\n",
    "coint_results=pd.merge(coint_results, sp_list, how='left', left_on='j_sybl', right_on='Symbol')\n",
    "coint_results['j_sect']=coint_results['Sector']\n",
    "coint_results.drop(columns=['Symbol_x', 'Symbol_y', 'Sector'], axis=1, inplace=True)\n",
    "coint_results.head()    "
   ]
  },
  {
   "cell_type": "code",
   "execution_count": 26,
   "metadata": {},
   "outputs": [],
   "source": [
    "if smoothing=='yes':\n",
    "    coint_results.to_csv('./data/results_smoothing.csv', index=False)\n",
    "else:\n",
    "    coint_results.to_csv('./data/results.csv', index=False)"
   ]
  },
  {
   "cell_type": "code",
   "execution_count": null,
   "metadata": {},
   "outputs": [],
   "source": []
  }
 ],
 "metadata": {
  "kernelspec": {
   "display_name": "Python 3",
   "language": "python",
   "name": "python3"
  },
  "language_info": {
   "codemirror_mode": {
    "name": "ipython",
    "version": 3
   },
   "file_extension": ".py",
   "mimetype": "text/x-python",
   "name": "python",
   "nbconvert_exporter": "python",
   "pygments_lexer": "ipython3",
   "version": "3.7.4"
  }
 },
 "nbformat": 4,
 "nbformat_minor": 2
}
